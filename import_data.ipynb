{
 "cells": [
  {
   "cell_type": "code",
   "execution_count": 5,
   "metadata": {},
   "outputs": [],
   "source": [
    "import gspread\n",
    "from oauth2client.service_account import ServiceAccountCredentials\n",
    "import pandas as pd"
   ]
  },
  {
   "cell_type": "code",
   "execution_count": 6,
   "metadata": {},
   "outputs": [],
   "source": [
    "scope = ['https://spreadsheets.google.com/feeds',\n",
    "         'https://www.googleapis.com/auth/drive']\n",
    "\n",
    "credentials = ServiceAccountCredentials.from_json_keyfile_name(\n",
    "'', scope) # The json file goes in the ''"
   ]
  },
  {
   "cell_type": "code",
   "execution_count": 7,
   "metadata": {},
   "outputs": [],
   "source": [
    "# Authorize with Google Sheets API\n",
    "gc = gspread.authorize(credentials)\n",
    "\n",
    "# Open the Google Sheets document\n",
    "spreadsheet = gc.open(\"Annual Spending 2021\")\n",
    "\n",
    "# Access the worksheet directly\n",
    "worksheet = spreadsheet.worksheet(\"Data\")\n",
    "data = worksheet.get_all_values()\n",
    "headers = data.pop(0)\n",
    "df = pd.DataFrame(data, columns=headers)"
   ]
  },
  {
   "cell_type": "code",
   "execution_count": 8,
   "metadata": {},
   "outputs": [],
   "source": [
    "df.to_csv('data/financials_2021.csv')"
   ]
  },
  {
   "cell_type": "code",
   "execution_count": 9,
   "metadata": {},
   "outputs": [],
   "source": [
    "# Authorize with Google Sheets API\n",
    "gc = gspread.authorize(credentials)\n",
    "\n",
    "# Open the Google Sheets document\n",
    "spreadsheet = gc.open(\"Annual Spending 2021\")\n",
    "\n",
    "# Access the worksheet directly\n",
    "worksheet = spreadsheet.worksheet(\"Income\")\n",
    "data = worksheet.get_all_values()\n",
    "headers = data.pop(0)\n",
    "df = pd.DataFrame(data, columns=headers)"
   ]
  },
  {
   "cell_type": "code",
   "execution_count": 10,
   "metadata": {},
   "outputs": [],
   "source": [
    "df.to_csv('data/income_2021.csv')"
   ]
  },
  {
   "cell_type": "code",
   "execution_count": 11,
   "metadata": {},
   "outputs": [],
   "source": [
    "# Authorize with Google Sheets API\n",
    "gc = gspread.authorize(credentials)\n",
    "\n",
    "# Open the Google Sheets document\n",
    "spreadsheet = gc.open(\"Annual Spending 2022\")\n",
    "\n",
    "# Access the worksheet directly\n",
    "worksheet = spreadsheet.worksheet(\"Data\")\n",
    "\n",
    "# Get all values from the sheet\n",
    "data = worksheet.get_all_values()\n",
    "headers = data.pop(0)\n",
    "\n",
    "# Convert data to DataFrame\n",
    "df = pd.DataFrame(data, columns=headers)\n"
   ]
  },
  {
   "cell_type": "code",
   "execution_count": 12,
   "metadata": {},
   "outputs": [],
   "source": [
    "df.to_csv('data/financials_2022.csv')"
   ]
  },
  {
   "cell_type": "code",
   "execution_count": 13,
   "metadata": {},
   "outputs": [],
   "source": [
    "# Authorize with Google Sheets API\n",
    "gc = gspread.authorize(credentials)\n",
    "\n",
    "# Open the Google Sheets document\n",
    "spreadsheet = gc.open(\"Annual Spending 2022\")\n",
    "\n",
    "# Access the worksheet directly\n",
    "worksheet = spreadsheet.worksheet(\"Income\")\n",
    "\n",
    "# Get all values from the sheet\n",
    "data = worksheet.get_all_values()\n",
    "headers = data.pop(0)\n",
    "\n",
    "# Convert data to DataFrame\n",
    "df = pd.DataFrame(data, columns=headers)"
   ]
  },
  {
   "cell_type": "code",
   "execution_count": 14,
   "metadata": {},
   "outputs": [],
   "source": [
    "df.to_csv('data/income_2022.csv')"
   ]
  }
 ],
 "metadata": {
  "kernelspec": {
   "display_name": "personal_finance",
   "language": "python",
   "name": "python3"
  },
  "language_info": {
   "codemirror_mode": {
    "name": "ipython",
    "version": 3
   },
   "file_extension": ".py",
   "mimetype": "text/x-python",
   "name": "python",
   "nbconvert_exporter": "python",
   "pygments_lexer": "ipython3",
   "version": "3.10.12"
  }
 },
 "nbformat": 4,
 "nbformat_minor": 2
}
