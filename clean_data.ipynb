{
 "cells": [
  {
   "cell_type": "code",
   "execution_count": 1,
   "metadata": {},
   "outputs": [],
   "source": [
    "import pandas as pd"
   ]
  },
  {
   "cell_type": "code",
   "execution_count": 2,
   "metadata": {},
   "outputs": [],
   "source": [
    "fin_21 = pd.read_csv('data/financials_2021.csv', index_col=0)\n",
    "fin_22 = pd.read_csv('data/financials_2022.csv', index_col=0)\n",
    "income_21 = pd.read_csv('data/income_2021.csv', index_col=0)\n",
    "income_22 = pd.read_csv('data/income_2022.csv',index_col=0)"
   ]
  },
  {
   "cell_type": "code",
   "execution_count": 3,
   "metadata": {},
   "outputs": [
    {
     "name": "stdout",
     "output_type": "stream",
     "text": [
      "<class 'pandas.core.frame.DataFrame'>\n",
      "Index: 673 entries, 0 to 672\n",
      "Data columns (total 5 columns):\n",
      " #   Column   Non-Null Count  Dtype  \n",
      "---  ------   --------------  -----  \n",
      " 0   Date     673 non-null    object \n",
      " 1   Account  673 non-null    object \n",
      " 2   Debit    593 non-null    float64\n",
      " 3   Credit   80 non-null     float64\n",
      " 4   Type     673 non-null    object \n",
      "dtypes: float64(2), object(3)\n",
      "memory usage: 31.5+ KB\n",
      "<class 'pandas.core.frame.DataFrame'>\n",
      "Index: 694 entries, 0 to 693\n",
      "Data columns (total 5 columns):\n",
      " #   Column   Non-Null Count  Dtype  \n",
      "---  ------   --------------  -----  \n",
      " 0   Date     694 non-null    object \n",
      " 1   Account  694 non-null    object \n",
      " 2   Debit    630 non-null    float64\n",
      " 3   Credit   64 non-null     float64\n",
      " 4   Type     694 non-null    object \n",
      "dtypes: float64(2), object(3)\n",
      "memory usage: 32.5+ KB\n",
      "<class 'pandas.core.frame.DataFrame'>\n",
      "Index: 48 entries, 0 to 47\n",
      "Data columns (total 3 columns):\n",
      " #   Column   Non-Null Count  Dtype  \n",
      "---  ------   --------------  -----  \n",
      " 0   Date     48 non-null     object \n",
      " 1   Account  48 non-null     object \n",
      " 2   Income   48 non-null     float64\n",
      "dtypes: float64(1), object(2)\n",
      "memory usage: 1.5+ KB\n",
      "<class 'pandas.core.frame.DataFrame'>\n",
      "Index: 30 entries, 0 to 29\n",
      "Data columns (total 3 columns):\n",
      " #   Column   Non-Null Count  Dtype  \n",
      "---  ------   --------------  -----  \n",
      " 0   Date     30 non-null     object \n",
      " 1   Account  30 non-null     object \n",
      " 2   Income   30 non-null     float64\n",
      "dtypes: float64(1), object(2)\n",
      "memory usage: 960.0+ bytes\n"
     ]
    }
   ],
   "source": [
    "fin_21.info()\n",
    "fin_22.info()\n",
    "income_21.info()\n",
    "income_22.info()"
   ]
  },
  {
   "cell_type": "code",
   "execution_count": 4,
   "metadata": {},
   "outputs": [
    {
     "data": {
      "text/html": [
       "<div>\n",
       "<style scoped>\n",
       "    .dataframe tbody tr th:only-of-type {\n",
       "        vertical-align: middle;\n",
       "    }\n",
       "\n",
       "    .dataframe tbody tr th {\n",
       "        vertical-align: top;\n",
       "    }\n",
       "\n",
       "    .dataframe thead th {\n",
       "        text-align: right;\n",
       "    }\n",
       "</style>\n",
       "<table border=\"1\" class=\"dataframe\">\n",
       "  <thead>\n",
       "    <tr style=\"text-align: right;\">\n",
       "      <th></th>\n",
       "      <th>count</th>\n",
       "      <th>unique</th>\n",
       "      <th>top</th>\n",
       "      <th>freq</th>\n",
       "      <th>mean</th>\n",
       "      <th>std</th>\n",
       "      <th>min</th>\n",
       "      <th>25%</th>\n",
       "      <th>50%</th>\n",
       "      <th>75%</th>\n",
       "      <th>max</th>\n",
       "    </tr>\n",
       "  </thead>\n",
       "  <tbody>\n",
       "    <tr>\n",
       "      <th>Date</th>\n",
       "      <td>30</td>\n",
       "      <td>29</td>\n",
       "      <td>1/14/2022</td>\n",
       "      <td>2</td>\n",
       "      <td>NaN</td>\n",
       "      <td>NaN</td>\n",
       "      <td>NaN</td>\n",
       "      <td>NaN</td>\n",
       "      <td>NaN</td>\n",
       "      <td>NaN</td>\n",
       "      <td>NaN</td>\n",
       "    </tr>\n",
       "    <tr>\n",
       "      <th>Account</th>\n",
       "      <td>30</td>\n",
       "      <td>1</td>\n",
       "      <td>CHK</td>\n",
       "      <td>30</td>\n",
       "      <td>NaN</td>\n",
       "      <td>NaN</td>\n",
       "      <td>NaN</td>\n",
       "      <td>NaN</td>\n",
       "      <td>NaN</td>\n",
       "      <td>NaN</td>\n",
       "      <td>NaN</td>\n",
       "    </tr>\n",
       "    <tr>\n",
       "      <th>Income</th>\n",
       "      <td>30.0</td>\n",
       "      <td>NaN</td>\n",
       "      <td>NaN</td>\n",
       "      <td>NaN</td>\n",
       "      <td>2163.573667</td>\n",
       "      <td>1335.412845</td>\n",
       "      <td>13.37</td>\n",
       "      <td>2018.635</td>\n",
       "      <td>2076.93</td>\n",
       "      <td>2297.04</td>\n",
       "      <td>7000.0</td>\n",
       "    </tr>\n",
       "  </tbody>\n",
       "</table>\n",
       "</div>"
      ],
      "text/plain": [
       "        count unique        top freq         mean          std    min  \\\n",
       "Date       30     29  1/14/2022    2          NaN          NaN    NaN   \n",
       "Account    30      1        CHK   30          NaN          NaN    NaN   \n",
       "Income   30.0    NaN        NaN  NaN  2163.573667  1335.412845  13.37   \n",
       "\n",
       "              25%      50%      75%     max  \n",
       "Date          NaN      NaN      NaN     NaN  \n",
       "Account       NaN      NaN      NaN     NaN  \n",
       "Income   2018.635  2076.93  2297.04  7000.0  "
      ]
     },
     "execution_count": 4,
     "metadata": {},
     "output_type": "execute_result"
    }
   ],
   "source": [
    "fin_21.describe(include='all').T\n",
    "fin_22.describe(include='all').T\n",
    "income_22.describe(include='all').T"
   ]
  },
  {
   "cell_type": "code",
   "execution_count": 5,
   "metadata": {},
   "outputs": [],
   "source": [
    "#fin_21\n",
    "#fin_22\n",
    "#income_21\n",
    "#income_22"
   ]
  },
  {
   "cell_type": "code",
   "execution_count": 6,
   "metadata": {},
   "outputs": [],
   "source": [
    "fin_21['Debit'] = fin_21['Debit'].fillna(0.00).astype(float)\n",
    "fin_21['Credit'] = fin_21['Credit'].fillna(0.00).astype(float)\n",
    "fin_21.rename(columns={'Type': 'Category'}, inplace=True)"
   ]
  },
  {
   "cell_type": "code",
   "execution_count": 7,
   "metadata": {},
   "outputs": [],
   "source": [
    "fin_22['Debit'] = fin_22['Debit'].fillna(0.00).astype(float)\n",
    "fin_22['Credit'] = fin_22['Credit'].fillna(0.00).astype(float)\n",
    "fin_22.rename(columns={'Type': 'Category'}, inplace=True)"
   ]
  },
  {
   "cell_type": "code",
   "execution_count": 8,
   "metadata": {},
   "outputs": [
    {
     "name": "stdout",
     "output_type": "stream",
     "text": [
      "          Date Account   Income\n",
      "0    1/15/2021     CHK   470.49\n",
      "1    1/29/2021     CHK   512.10\n",
      "2    2/12/2021     CHK   475.27\n",
      "3    2/26/2021     CHK   512.10\n",
      "4    3/12/2021     CHK   574.70\n",
      "5    3/19/2021     CHK   649.90\n",
      "6    3/26/2021     CHK   649.91\n",
      "7    3/26/2021     CHK   277.71\n",
      "8     4/2/2021     CHK   649.90\n",
      "9     4/9/2021     CHK   649.89\n",
      "10   4/16/2021     CHK   649.91\n",
      "11   4/23/2021     CHK   649.90\n",
      "12   4/30/2021     CHK   649.90\n",
      "13    5/7/2021     CHK   649.91\n",
      "14   5/14/2021     CHK   692.59\n",
      "15   5/21/2021     CHK   688.22\n",
      "16   5/28/2021     CHK   710.13\n",
      "17    6/4/2021     CHK   708.39\n",
      "18   6/11/2021     CHK   657.73\n",
      "19   6/18/2021     CHK   674.88\n",
      "20   6/25/2021     CHK   671.25\n",
      "21    7/2/2021     CHK   683.63\n",
      "22    7/9/2021     CHK   714.10\n",
      "23   7/16/2021     CHK   682.57\n",
      "24   7/23/2021     CHK   740.15\n",
      "25   7/30/2021     CHK   709.36\n",
      "26    8/6/2021     CHK   680.45\n",
      "27   8/13/2021     CHK   745.93\n",
      "28   8/20/2021     CHK   715.40\n",
      "29   8/27/2021     CHK   564.60\n",
      "30    9/3/2021     CHK   723.33\n",
      "31   9/10/2021     CHK   780.35\n",
      "32   9/17/2021     CHK   628.97\n",
      "33   9/24/2021     CHK   891.46\n",
      "34   10/1/2021     CHK   893.19\n",
      "35   10/8/2021     CHK   782.84\n",
      "36  10/15/2021     CHK   804.81\n",
      "37  10/22/2021     CHK   778.87\n",
      "38  10/29/2021     CHK   879.21\n",
      "39   11/5/2021     CHK   803.31\n",
      "40  11/12/2021     CHK   854.21\n",
      "41  11/19/2021     CHK   886.82\n",
      "42  11/26/2021     CHK  2180.25\n",
      "43   12/3/2021     CHK   850.74\n",
      "44  12/10/2021     CHK  1022.49\n",
      "45  12/17/2021     CHK  1053.01\n",
      "46  12/23/2021     CHK   903.05\n",
      "47  12/31/2021     CHK  2673.45\n"
     ]
    }
   ],
   "source": [
    "#print(income_22)\n",
    "#print(income_21)\n",
    "#print(fin_22)\n",
    "#print(fin_21)"
   ]
  },
  {
   "cell_type": "code",
   "execution_count": 9,
   "metadata": {},
   "outputs": [],
   "source": [
    "fin_21['Date'] = pd.to_datetime(fin_21['Date'], format='%m/%d/%Y')\n",
    "fin_21['Month'] = fin_21['Date'].dt.month\n",
    "fin_21['Year'] = fin_21['Date'].dt.year\n",
    "\n",
    "fin_22['Date'] = pd.to_datetime(fin_22['Date'], format='%m/%d/%Y')\n",
    "fin_22['Month'] = fin_22['Date'].dt.month\n",
    "fin_22['Year'] = fin_22['Date'].dt.year"
   ]
  },
  {
   "cell_type": "code",
   "execution_count": 10,
   "metadata": {},
   "outputs": [],
   "source": [
    "income_21['Date'] = pd.to_datetime(income_21['Date'], format='%m/%d/%Y')\n",
    "income_21['Month'] = income_21['Date'].dt.month\n",
    "income_21['Year'] = income_21['Date'].dt.year\n",
    "\n",
    "income_22['Date'] = pd.to_datetime(income_22['Date'], format='%m/%d/%Y')\n",
    "income_22['Month'] = income_22['Date'].dt.month\n",
    "income_22['Year'] = income_22['Date'].dt.year"
   ]
  },
  {
   "cell_type": "code",
   "execution_count": 11,
   "metadata": {},
   "outputs": [],
   "source": [
    "#fin_21.to_csv('data/clean_21.csv')\n",
    "#fin_22.to_csv('data/clean_22.csv')"
   ]
  },
  {
   "cell_type": "code",
   "execution_count": 12,
   "metadata": {},
   "outputs": [],
   "source": [
    "finance = pd.concat([fin_21, fin_22])\n",
    "#finance\n",
    "finance.to_csv('data/finance.csv', index=False, columns=['Date', 'Account', 'Debit', 'Credit', 'Category', 'Month', 'Year'])\n",
    "income = pd.concat([income_21, income_22])\n",
    "income.to_csv('data/income.csv', index=False, columns=['Date', 'Account', 'Income', 'Month', 'Year'])"
   ]
  }
 ],
 "metadata": {
  "kernelspec": {
   "display_name": "personal_finance",
   "language": "python",
   "name": "python3"
  },
  "language_info": {
   "codemirror_mode": {
    "name": "ipython",
    "version": 3
   },
   "file_extension": ".py",
   "mimetype": "text/x-python",
   "name": "python",
   "nbconvert_exporter": "python",
   "pygments_lexer": "ipython3",
   "version": "3.10.12"
  }
 },
 "nbformat": 4,
 "nbformat_minor": 2
}
